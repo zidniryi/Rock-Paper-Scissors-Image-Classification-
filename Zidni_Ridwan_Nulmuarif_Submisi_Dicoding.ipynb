{
  "nbformat": 4,
  "nbformat_minor": 0,
  "metadata": {
    "colab": {
      "provenance": []
    },
    "kernelspec": {
      "name": "python3",
      "display_name": "Python 3"
    },
    "language_info": {
      "name": "python"
    }
  },
  "cells": [
    {
      "cell_type": "markdown",
      "source": [
        "Submision machine learning Zidni Ridwan Nulmuarif"
      ],
      "metadata": {
        "id": "bl1EHFoVnd8h"
      }
    },
    {
      "cell_type": "code",
      "execution_count": 1,
      "metadata": {
        "id": "94jkbvwEndLm"
      },
      "outputs": [],
      "source": [
        "import tensorflow as tf\n",
        "from tensorflow.keras.optimizers import RMSprop\n",
        "from tensorflow.keras.preprocessing.image import ImageDataGenerator"
      ]
    },
    {
      "cell_type": "code",
      "source": [
        "import zipfile, os\n",
        "from google.colab import drive\n",
        "from google.colab import files\n",
        "\n",
        "drive.mount('/content/gdrive')\n",
        "\n",
        "%cd /content/gdrive/MyDrive/Dicoding_ML\n",
        "\n",
        "local_zip = '/content/gdrive/MyDrive/Dicoding_ML/rockpaperscissors.zip'\n",
        "zip_ref = zipfile.ZipFile(local_zip, 'r')\n",
        "zip_ref.extractall('/content/gdrive/MyDrive/Dicoding_ML')\n",
        "zip_ref.close()\n",
        "\n",
        "base_dir  = '/content/gdrive/MyDrive/Dicoding_ML/rockpaperscissors/rps-cv-images'"
      ],
      "metadata": {
        "colab": {
          "base_uri": "https://localhost:8080/"
        },
        "id": "yz8Dl9ACor1d",
        "outputId": "26dd595c-ffa0-4c9e-9874-4d6a5896dcab"
      },
      "execution_count": 3,
      "outputs": [
        {
          "output_type": "stream",
          "name": "stdout",
          "text": [
            "Drive already mounted at /content/gdrive; to attempt to forcibly remount, call drive.mount(\"/content/gdrive\", force_remount=True).\n",
            "/content/gdrive/MyDrive/Dicoding_ML\n"
          ]
        }
      ]
    },
    {
      "cell_type": "code",
      "source": [
        "# Showing list dir\n",
        "os.listdir(base_dir)"
      ],
      "metadata": {
        "colab": {
          "base_uri": "https://localhost:8080/"
        },
        "id": "DK93wao0pB-p",
        "outputId": "0f2bab26-fb2b-44ce-aa7e-5dec85d255d2"
      },
      "execution_count": 5,
      "outputs": [
        {
          "output_type": "execute_result",
          "data": {
            "text/plain": [
              "['paper', 'rock', 'scissors', 'README_rpc-cv-images.txt']"
            ]
          },
          "metadata": {},
          "execution_count": 5
        }
      ]
    },
    {
      "cell_type": "code",
      "source": [
        "# augmentasi training model\n",
        "train_datagen = ImageDataGenerator(\n",
        "    rescale = 1./255,                       #pixel being 0 and 1\n",
        "    shear_range = 0.2,                      #citra being 20%\n",
        "    rotation_range = 20,                    #citra rotate 20%\n",
        "    fill_mode = 'wrap',                     #add border citra\n",
        "    horizontal_flip = True,                 #rotate to 50%\n",
        "    validation_split = 0.4                  #40% validation adn 60% train\n",
        ")"
      ],
      "metadata": {
        "id": "8vGkiB-uruDe"
      },
      "execution_count": 6,
      "outputs": []
    },
    {
      "cell_type": "code",
      "source": [
        "# result image from batch\n",
        "training_generator = train_datagen.flow_from_directory(\n",
        "    base_dir,\n",
        "    target_size = (100, 150),\n",
        "    shuffle = True,\n",
        "    subset = 'training'\n",
        ")\n",
        "# result bacth validation\n",
        "validation_generator = train_datagen.flow_from_directory(\n",
        "    base_dir,\n",
        "    target_size = (100, 150),\n",
        "    subset = 'validation'\n",
        ")"
      ],
      "metadata": {
        "colab": {
          "base_uri": "https://localhost:8080/"
        },
        "id": "Bi9Ri1N9sTHA",
        "outputId": "e0a075e2-badd-48e5-af6e-3d891dd99fe1"
      },
      "execution_count": 8,
      "outputs": [
        {
          "output_type": "stream",
          "name": "stdout",
          "text": [
            "Found 1314 images belonging to 3 classes.\n",
            "Found 874 images belonging to 3 classes.\n"
          ]
        }
      ]
    },
    {
      "cell_type": "code",
      "source": [
        "# neural network for \"batu, kertas, gunting\"\n",
        "model = tf.keras.models.Sequential([\n",
        "                                    tf.keras.layers.Conv2D(16, (3,3), activation = 'relu', input_shape = (100, 150, 3)),\n",
        "                                    tf.keras.layers.MaxPooling2D(2,2),\n",
        "                                    tf.keras.layers.Conv2D(32, (3,3), activation = 'relu'),\n",
        "                                    tf.keras.layers.MaxPooling2D(2,2),\n",
        "                                    tf.keras.layers.Conv2D(64, (3,3), activation = 'relu'),\n",
        "                                    tf.keras.layers.MaxPooling2D(2,2),\n",
        "                                    tf.keras.layers.Flatten(),\n",
        "                                    tf.keras.layers.Dense(512, activation = 'relu'),\n",
        "                                    tf.keras.layers.Dense(3, activation = 'softmax')\n",
        "])\n",
        ""
      ],
      "metadata": {
        "id": "ksLO5bdhscID"
      },
      "execution_count": 9,
      "outputs": []
    },
    {
      "cell_type": "code",
      "source": [
        "model.compile(\n",
        "    loss = 'categorical_crossentropy',\n",
        "    optimizer = tf.optimizers.Adam(),\n",
        "    metrics = ['accuracy']\n",
        ")"
      ],
      "metadata": {
        "id": "fXJmOYtRs-Hc"
      },
      "execution_count": 10,
      "outputs": []
    },
    {
      "cell_type": "code",
      "source": [
        "# Training model\n",
        "model.fit(\n",
        "    training_generator,\n",
        "    steps_per_epoch = 16,\n",
        "    epochs = 15,\n",
        "    validation_data = validation_generator,\n",
        "    validation_steps = 4,\n",
        "    verbose = 2\n",
        ")"
      ],
      "metadata": {
        "colab": {
          "base_uri": "https://localhost:8080/"
        },
        "id": "-wfi7nd-tBDw",
        "outputId": "af483127-1f44-4dc5-f74a-a1edda86dc72"
      },
      "execution_count": 12,
      "outputs": [
        {
          "output_type": "stream",
          "name": "stdout",
          "text": [
            "Epoch 1/15\n",
            "16/16 - 20s - loss: 1.0501 - accuracy: 0.4648 - val_loss: 0.8043 - val_accuracy: 0.7578 - 20s/epoch - 1s/step\n",
            "Epoch 2/15\n",
            "16/16 - 17s - loss: 0.6635 - accuracy: 0.7852 - val_loss: 0.4677 - val_accuracy: 0.8125 - 17s/epoch - 1s/step\n",
            "Epoch 3/15\n",
            "16/16 - 18s - loss: 0.3585 - accuracy: 0.8651 - val_loss: 0.5025 - val_accuracy: 0.7969 - 18s/epoch - 1s/step\n",
            "Epoch 4/15\n",
            "16/16 - 21s - loss: 0.3076 - accuracy: 0.8848 - val_loss: 0.3379 - val_accuracy: 0.8750 - 21s/epoch - 1s/step\n",
            "Epoch 5/15\n",
            "16/16 - 16s - loss: 0.2885 - accuracy: 0.8880 - val_loss: 0.3888 - val_accuracy: 0.8984 - 16s/epoch - 1s/step\n",
            "Epoch 6/15\n",
            "16/16 - 16s - loss: 0.2912 - accuracy: 0.8809 - val_loss: 0.2851 - val_accuracy: 0.9062 - 16s/epoch - 991ms/step\n",
            "Epoch 7/15\n",
            "16/16 - 16s - loss: 0.2374 - accuracy: 0.9238 - val_loss: 0.2441 - val_accuracy: 0.9219 - 16s/epoch - 1s/step\n",
            "Epoch 8/15\n",
            "16/16 - 19s - loss: 0.1558 - accuracy: 0.9512 - val_loss: 0.1040 - val_accuracy: 0.9766 - 19s/epoch - 1s/step\n",
            "Epoch 9/15\n",
            "16/16 - 16s - loss: 0.2137 - accuracy: 0.9297 - val_loss: 0.2003 - val_accuracy: 0.9297 - 16s/epoch - 1s/step\n",
            "Epoch 10/15\n",
            "16/16 - 16s - loss: 0.1800 - accuracy: 0.9357 - val_loss: 0.2308 - val_accuracy: 0.9297 - 16s/epoch - 977ms/step\n",
            "Epoch 11/15\n",
            "16/16 - 16s - loss: 0.1567 - accuracy: 0.9473 - val_loss: 0.2176 - val_accuracy: 0.9141 - 16s/epoch - 989ms/step\n",
            "Epoch 12/15\n",
            "16/16 - 15s - loss: 0.1769 - accuracy: 0.9336 - val_loss: 0.1994 - val_accuracy: 0.9297 - 15s/epoch - 961ms/step\n",
            "Epoch 13/15\n",
            "16/16 - 15s - loss: 0.1185 - accuracy: 0.9647 - val_loss: 0.1697 - val_accuracy: 0.9375 - 15s/epoch - 955ms/step\n",
            "Epoch 14/15\n",
            "16/16 - 16s - loss: 0.1502 - accuracy: 0.9453 - val_loss: 0.1597 - val_accuracy: 0.9531 - 16s/epoch - 999ms/step\n",
            "Epoch 15/15\n",
            "16/16 - 17s - loss: 0.0816 - accuracy: 0.9746 - val_loss: 0.1045 - val_accuracy: 0.9688 - 17s/epoch - 1s/step\n"
          ]
        },
        {
          "output_type": "execute_result",
          "data": {
            "text/plain": [
              "<keras.src.callbacks.History at 0x7bf0f2da4bb0>"
            ]
          },
          "metadata": {},
          "execution_count": 12
        }
      ]
    },
    {
      "cell_type": "code",
      "source": [
        "import tensorflow as tf\n",
        "from tensorflow.keras.preprocessing import image\n",
        "import numpy as np\n",
        "import matplotlib.pyplot as plt\n",
        "\n",
        "# Simulate the file upload (for this example, let's assume 'files.upload()' is already done)\n",
        "uploaded = files.upload()\n",
        "\n",
        "for gambar in uploaded.keys():                                # for loop\n",
        "  path = gambar                                               # show path\n",
        "  img = image.load_img(path, target_size=(100, 150))          # load image as object\n",
        "  imgplot = plt.imshow(img)                                   # showing image as matplotlib\n",
        "  plt.show()                                                  # Show the plot\n",
        "  x = image.img_to_array(img)                                 # change into array\n",
        "  x = np.expand_dims(x, axis=0)                               # add dimension of array\n",
        "\n",
        "  images = np.vstack([x])                                     # make array being one\n",
        "  classification = model.predict(images, batch_size=10)       # classification used model CNN.\n",
        "\n",
        "  print(gambar)                                               # showing image\n",
        "  if classification[0][0] == 1:                               # determine image\n",
        "    print(\"Gambarnya kertas niiih\")\n",
        "  elif classification[0][1] == 1:\n",
        "    print(\"Gambarnya batuu niiih\")\n",
        "  elif classification[0][2] == 1:\n",
        "    print(\"Gambarnya gunting niiih\")\n",
        "  else:\n",
        "    print(\"Au ah gak tau gambarnya\")\n"
      ],
      "metadata": {
        "colab": {
          "base_uri": "https://localhost:8080/",
          "height": 505
        },
        "id": "T8vJSsdxtD9m",
        "outputId": "39b413bc-8aee-4f9d-83d0-5b2391815b77"
      },
      "execution_count": 25,
      "outputs": [
        {
          "output_type": "display_data",
          "data": {
            "text/plain": [
              "<IPython.core.display.HTML object>"
            ],
            "text/html": [
              "\n",
              "     <input type=\"file\" id=\"files-9ca60ba2-df27-448e-8349-ef498dd2b18b\" name=\"files[]\" multiple disabled\n",
              "        style=\"border:none\" />\n",
              "     <output id=\"result-9ca60ba2-df27-448e-8349-ef498dd2b18b\">\n",
              "      Upload widget is only available when the cell has been executed in the\n",
              "      current browser session. Please rerun this cell to enable.\n",
              "      </output>\n",
              "      <script>// Copyright 2017 Google LLC\n",
              "//\n",
              "// Licensed under the Apache License, Version 2.0 (the \"License\");\n",
              "// you may not use this file except in compliance with the License.\n",
              "// You may obtain a copy of the License at\n",
              "//\n",
              "//      http://www.apache.org/licenses/LICENSE-2.0\n",
              "//\n",
              "// Unless required by applicable law or agreed to in writing, software\n",
              "// distributed under the License is distributed on an \"AS IS\" BASIS,\n",
              "// WITHOUT WARRANTIES OR CONDITIONS OF ANY KIND, either express or implied.\n",
              "// See the License for the specific language governing permissions and\n",
              "// limitations under the License.\n",
              "\n",
              "/**\n",
              " * @fileoverview Helpers for google.colab Python module.\n",
              " */\n",
              "(function(scope) {\n",
              "function span(text, styleAttributes = {}) {\n",
              "  const element = document.createElement('span');\n",
              "  element.textContent = text;\n",
              "  for (const key of Object.keys(styleAttributes)) {\n",
              "    element.style[key] = styleAttributes[key];\n",
              "  }\n",
              "  return element;\n",
              "}\n",
              "\n",
              "// Max number of bytes which will be uploaded at a time.\n",
              "const MAX_PAYLOAD_SIZE = 100 * 1024;\n",
              "\n",
              "function _uploadFiles(inputId, outputId) {\n",
              "  const steps = uploadFilesStep(inputId, outputId);\n",
              "  const outputElement = document.getElementById(outputId);\n",
              "  // Cache steps on the outputElement to make it available for the next call\n",
              "  // to uploadFilesContinue from Python.\n",
              "  outputElement.steps = steps;\n",
              "\n",
              "  return _uploadFilesContinue(outputId);\n",
              "}\n",
              "\n",
              "// This is roughly an async generator (not supported in the browser yet),\n",
              "// where there are multiple asynchronous steps and the Python side is going\n",
              "// to poll for completion of each step.\n",
              "// This uses a Promise to block the python side on completion of each step,\n",
              "// then passes the result of the previous step as the input to the next step.\n",
              "function _uploadFilesContinue(outputId) {\n",
              "  const outputElement = document.getElementById(outputId);\n",
              "  const steps = outputElement.steps;\n",
              "\n",
              "  const next = steps.next(outputElement.lastPromiseValue);\n",
              "  return Promise.resolve(next.value.promise).then((value) => {\n",
              "    // Cache the last promise value to make it available to the next\n",
              "    // step of the generator.\n",
              "    outputElement.lastPromiseValue = value;\n",
              "    return next.value.response;\n",
              "  });\n",
              "}\n",
              "\n",
              "/**\n",
              " * Generator function which is called between each async step of the upload\n",
              " * process.\n",
              " * @param {string} inputId Element ID of the input file picker element.\n",
              " * @param {string} outputId Element ID of the output display.\n",
              " * @return {!Iterable<!Object>} Iterable of next steps.\n",
              " */\n",
              "function* uploadFilesStep(inputId, outputId) {\n",
              "  const inputElement = document.getElementById(inputId);\n",
              "  inputElement.disabled = false;\n",
              "\n",
              "  const outputElement = document.getElementById(outputId);\n",
              "  outputElement.innerHTML = '';\n",
              "\n",
              "  const pickedPromise = new Promise((resolve) => {\n",
              "    inputElement.addEventListener('change', (e) => {\n",
              "      resolve(e.target.files);\n",
              "    });\n",
              "  });\n",
              "\n",
              "  const cancel = document.createElement('button');\n",
              "  inputElement.parentElement.appendChild(cancel);\n",
              "  cancel.textContent = 'Cancel upload';\n",
              "  const cancelPromise = new Promise((resolve) => {\n",
              "    cancel.onclick = () => {\n",
              "      resolve(null);\n",
              "    };\n",
              "  });\n",
              "\n",
              "  // Wait for the user to pick the files.\n",
              "  const files = yield {\n",
              "    promise: Promise.race([pickedPromise, cancelPromise]),\n",
              "    response: {\n",
              "      action: 'starting',\n",
              "    }\n",
              "  };\n",
              "\n",
              "  cancel.remove();\n",
              "\n",
              "  // Disable the input element since further picks are not allowed.\n",
              "  inputElement.disabled = true;\n",
              "\n",
              "  if (!files) {\n",
              "    return {\n",
              "      response: {\n",
              "        action: 'complete',\n",
              "      }\n",
              "    };\n",
              "  }\n",
              "\n",
              "  for (const file of files) {\n",
              "    const li = document.createElement('li');\n",
              "    li.append(span(file.name, {fontWeight: 'bold'}));\n",
              "    li.append(span(\n",
              "        `(${file.type || 'n/a'}) - ${file.size} bytes, ` +\n",
              "        `last modified: ${\n",
              "            file.lastModifiedDate ? file.lastModifiedDate.toLocaleDateString() :\n",
              "                                    'n/a'} - `));\n",
              "    const percent = span('0% done');\n",
              "    li.appendChild(percent);\n",
              "\n",
              "    outputElement.appendChild(li);\n",
              "\n",
              "    const fileDataPromise = new Promise((resolve) => {\n",
              "      const reader = new FileReader();\n",
              "      reader.onload = (e) => {\n",
              "        resolve(e.target.result);\n",
              "      };\n",
              "      reader.readAsArrayBuffer(file);\n",
              "    });\n",
              "    // Wait for the data to be ready.\n",
              "    let fileData = yield {\n",
              "      promise: fileDataPromise,\n",
              "      response: {\n",
              "        action: 'continue',\n",
              "      }\n",
              "    };\n",
              "\n",
              "    // Use a chunked sending to avoid message size limits. See b/62115660.\n",
              "    let position = 0;\n",
              "    do {\n",
              "      const length = Math.min(fileData.byteLength - position, MAX_PAYLOAD_SIZE);\n",
              "      const chunk = new Uint8Array(fileData, position, length);\n",
              "      position += length;\n",
              "\n",
              "      const base64 = btoa(String.fromCharCode.apply(null, chunk));\n",
              "      yield {\n",
              "        response: {\n",
              "          action: 'append',\n",
              "          file: file.name,\n",
              "          data: base64,\n",
              "        },\n",
              "      };\n",
              "\n",
              "      let percentDone = fileData.byteLength === 0 ?\n",
              "          100 :\n",
              "          Math.round((position / fileData.byteLength) * 100);\n",
              "      percent.textContent = `${percentDone}% done`;\n",
              "\n",
              "    } while (position < fileData.byteLength);\n",
              "  }\n",
              "\n",
              "  // All done.\n",
              "  yield {\n",
              "    response: {\n",
              "      action: 'complete',\n",
              "    }\n",
              "  };\n",
              "}\n",
              "\n",
              "scope.google = scope.google || {};\n",
              "scope.google.colab = scope.google.colab || {};\n",
              "scope.google.colab._files = {\n",
              "  _uploadFiles,\n",
              "  _uploadFilesContinue,\n",
              "};\n",
              "})(self);\n",
              "</script> "
            ]
          },
          "metadata": {}
        },
        {
          "output_type": "stream",
          "name": "stdout",
          "text": [
            "Saving 0bioBZYFCXqJIulm.png to 0bioBZYFCXqJIulm (1).png\n"
          ]
        },
        {
          "output_type": "display_data",
          "data": {
            "text/plain": [
              "<Figure size 640x480 with 1 Axes>"
            ],
            "image/png": "[encoded data removed]"
          },
          "metadata": {}
        },
        {
          "output_type": "stream",
          "name": "stdout",
          "text": [
            "1/1 [==============================] - 0s 29ms/step\n",
            "0bioBZYFCXqJIulm (1).png\n",
            "Gambarnya batuu niiih\n"
          ]
        }
      ]
    },
    {
      "cell_type": "code",
      "source": [],
      "metadata": {
        "id": "gTviMOEXwzyE"
      },
      "execution_count": null,
      "outputs": []
    }
  ]
}